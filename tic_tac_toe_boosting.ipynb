{
  "nbformat": 4,
  "nbformat_minor": 0,
  "metadata": {
    "colab": {
      "name": "tic-tac-toe-boosting.ipynb",
      "provenance": [],
      "toc_visible": true,
      "collapsed_sections": [],
      "authorship_tag": "ABX9TyPVn6ubz9ngDiAMfoGVmvH2",
      "include_colab_link": true
    },
    "kernelspec": {
      "name": "python3",
      "display_name": "Python 3"
    },
    "language_info": {
      "name": "python"
    }
  },
  "cells": [
    {
      "cell_type": "markdown",
      "metadata": {
        "id": "view-in-github",
        "colab_type": "text"
      },
      "source": [
        "<a href=\"https://colab.research.google.com/github/brenocsp/tic-tac-toe-boosting/blob/main/tic_tac_toe_boosting.ipynb\" target=\"_parent\"><img src=\"https://colab.research.google.com/assets/colab-badge.svg\" alt=\"Open In Colab\"/></a>"
      ]
    },
    {
      "cell_type": "markdown",
      "source": [
        "# Implementação do Algoritmo de Boosting\n",
        "\n",
        "**Breno Claudio de Sena Pimenta**"
      ],
      "metadata": {
        "id": "Bq3wO7vLWDEa"
      }
    },
    {
      "cell_type": "markdown",
      "source": [
        "## Introdução\n",
        "\n",
        "Boosting é o processo de reduzir o viés de um grande conjunto de modelos simples. Esses modelos são chamados de modelos fracos, e são levemente correlacionados com a classificação correta. Nesse trabalhgo será implementado o algorítmo do Adaboost afim de classificar um conjunto de dados de jogos da velha."
      ],
      "metadata": {
        "id": "dubkBuokDHXe"
      }
    },
    {
      "cell_type": "markdown",
      "source": [
        "## Importação das bibliotecas\n",
        "\n",
        "Inicialmente é feito o carregamento das bibliotecas necessária."
      ],
      "metadata": {
        "id": "yQOr8lqeb-fe"
      }
    },
    {
      "cell_type": "code",
      "execution_count": null,
      "metadata": {
        "id": "6r_8JQFM6uTU"
      },
      "outputs": [],
      "source": [
        "import pandas as pd\n",
        "import numpy as np\n",
        "\n",
        "from sklearn.utils import shuffle\n",
        "from sklearn.tree import DecisionTreeClassifier\n",
        "from sklearn.model_selection import train_test_split\n",
        "from sklearn.model_selection import StratifiedKFold\n",
        "from sklearn.preprocessing import StandardScaler\n",
        "\n",
        "import matplotlib.pyplot as plt"
      ]
    },
    {
      "cell_type": "markdown",
      "source": [
        "## Importação do dataset\n",
        "\n",
        "Inicialmente realizamos a leitura dos dados do dataset escolhido."
      ],
      "metadata": {
        "id": "iltxia14cjtF"
      }
    },
    {
      "cell_type": "code",
      "source": [
        "colNames = [\"top_left\", \"top_middle\", \"top_right\",\n",
        "            \"middle_left\", \"middle_middle\", \"middle_right\",\n",
        "            \"bottom_left\", \"bottom_middle\", \"bottom_right\",\n",
        "            \"class\"]\n",
        "\n",
        "df_completo = pd.read_csv('https://raw.githubusercontent.com/brenocsp/tic-tac-toe-boosting/main/tic-tac-toe.data', names=colNames, header=None)\n",
        "df_completo.head(5)"
      ],
      "metadata": {
        "colab": {
          "base_uri": "https://localhost:8080/",
          "height": 206
        },
        "id": "STTaMKUdck2m",
        "outputId": "f573958d-bfc1-4be6-9316-89cb65d0bff0"
      },
      "execution_count": null,
      "outputs": [
        {
          "output_type": "execute_result",
          "data": {
            "text/plain": [
              "  top_left top_middle top_right middle_left middle_middle middle_right  \\\n",
              "0        x          x         x           x             o            o   \n",
              "1        x          x         x           x             o            o   \n",
              "2        x          x         x           x             o            o   \n",
              "3        x          x         x           x             o            o   \n",
              "4        x          x         x           x             o            o   \n",
              "\n",
              "  bottom_left bottom_middle bottom_right     class  \n",
              "0           x             o            o  positive  \n",
              "1           o             x            o  positive  \n",
              "2           o             o            x  positive  \n",
              "3           o             b            b  positive  \n",
              "4           b             o            b  positive  "
            ],
            "text/html": [
              "\n",
              "  <div id=\"df-852d54c7-3c0c-44cb-b73f-591fe818045f\">\n",
              "    <div class=\"colab-df-container\">\n",
              "      <div>\n",
              "<style scoped>\n",
              "    .dataframe tbody tr th:only-of-type {\n",
              "        vertical-align: middle;\n",
              "    }\n",
              "\n",
              "    .dataframe tbody tr th {\n",
              "        vertical-align: top;\n",
              "    }\n",
              "\n",
              "    .dataframe thead th {\n",
              "        text-align: right;\n",
              "    }\n",
              "</style>\n",
              "<table border=\"1\" class=\"dataframe\">\n",
              "  <thead>\n",
              "    <tr style=\"text-align: right;\">\n",
              "      <th></th>\n",
              "      <th>top_left</th>\n",
              "      <th>top_middle</th>\n",
              "      <th>top_right</th>\n",
              "      <th>middle_left</th>\n",
              "      <th>middle_middle</th>\n",
              "      <th>middle_right</th>\n",
              "      <th>bottom_left</th>\n",
              "      <th>bottom_middle</th>\n",
              "      <th>bottom_right</th>\n",
              "      <th>class</th>\n",
              "    </tr>\n",
              "  </thead>\n",
              "  <tbody>\n",
              "    <tr>\n",
              "      <th>0</th>\n",
              "      <td>x</td>\n",
              "      <td>x</td>\n",
              "      <td>x</td>\n",
              "      <td>x</td>\n",
              "      <td>o</td>\n",
              "      <td>o</td>\n",
              "      <td>x</td>\n",
              "      <td>o</td>\n",
              "      <td>o</td>\n",
              "      <td>positive</td>\n",
              "    </tr>\n",
              "    <tr>\n",
              "      <th>1</th>\n",
              "      <td>x</td>\n",
              "      <td>x</td>\n",
              "      <td>x</td>\n",
              "      <td>x</td>\n",
              "      <td>o</td>\n",
              "      <td>o</td>\n",
              "      <td>o</td>\n",
              "      <td>x</td>\n",
              "      <td>o</td>\n",
              "      <td>positive</td>\n",
              "    </tr>\n",
              "    <tr>\n",
              "      <th>2</th>\n",
              "      <td>x</td>\n",
              "      <td>x</td>\n",
              "      <td>x</td>\n",
              "      <td>x</td>\n",
              "      <td>o</td>\n",
              "      <td>o</td>\n",
              "      <td>o</td>\n",
              "      <td>o</td>\n",
              "      <td>x</td>\n",
              "      <td>positive</td>\n",
              "    </tr>\n",
              "    <tr>\n",
              "      <th>3</th>\n",
              "      <td>x</td>\n",
              "      <td>x</td>\n",
              "      <td>x</td>\n",
              "      <td>x</td>\n",
              "      <td>o</td>\n",
              "      <td>o</td>\n",
              "      <td>o</td>\n",
              "      <td>b</td>\n",
              "      <td>b</td>\n",
              "      <td>positive</td>\n",
              "    </tr>\n",
              "    <tr>\n",
              "      <th>4</th>\n",
              "      <td>x</td>\n",
              "      <td>x</td>\n",
              "      <td>x</td>\n",
              "      <td>x</td>\n",
              "      <td>o</td>\n",
              "      <td>o</td>\n",
              "      <td>b</td>\n",
              "      <td>o</td>\n",
              "      <td>b</td>\n",
              "      <td>positive</td>\n",
              "    </tr>\n",
              "  </tbody>\n",
              "</table>\n",
              "</div>\n",
              "      <button class=\"colab-df-convert\" onclick=\"convertToInteractive('df-852d54c7-3c0c-44cb-b73f-591fe818045f')\"\n",
              "              title=\"Convert this dataframe to an interactive table.\"\n",
              "              style=\"display:none;\">\n",
              "        \n",
              "  <svg xmlns=\"http://www.w3.org/2000/svg\" height=\"24px\"viewBox=\"0 0 24 24\"\n",
              "       width=\"24px\">\n",
              "    <path d=\"M0 0h24v24H0V0z\" fill=\"none\"/>\n",
              "    <path d=\"M18.56 5.44l.94 2.06.94-2.06 2.06-.94-2.06-.94-.94-2.06-.94 2.06-2.06.94zm-11 1L8.5 8.5l.94-2.06 2.06-.94-2.06-.94L8.5 2.5l-.94 2.06-2.06.94zm10 10l.94 2.06.94-2.06 2.06-.94-2.06-.94-.94-2.06-.94 2.06-2.06.94z\"/><path d=\"M17.41 7.96l-1.37-1.37c-.4-.4-.92-.59-1.43-.59-.52 0-1.04.2-1.43.59L10.3 9.45l-7.72 7.72c-.78.78-.78 2.05 0 2.83L4 21.41c.39.39.9.59 1.41.59.51 0 1.02-.2 1.41-.59l7.78-7.78 2.81-2.81c.8-.78.8-2.07 0-2.86zM5.41 20L4 18.59l7.72-7.72 1.47 1.35L5.41 20z\"/>\n",
              "  </svg>\n",
              "      </button>\n",
              "      \n",
              "  <style>\n",
              "    .colab-df-container {\n",
              "      display:flex;\n",
              "      flex-wrap:wrap;\n",
              "      gap: 12px;\n",
              "    }\n",
              "\n",
              "    .colab-df-convert {\n",
              "      background-color: #E8F0FE;\n",
              "      border: none;\n",
              "      border-radius: 50%;\n",
              "      cursor: pointer;\n",
              "      display: none;\n",
              "      fill: #1967D2;\n",
              "      height: 32px;\n",
              "      padding: 0 0 0 0;\n",
              "      width: 32px;\n",
              "    }\n",
              "\n",
              "    .colab-df-convert:hover {\n",
              "      background-color: #E2EBFA;\n",
              "      box-shadow: 0px 1px 2px rgba(60, 64, 67, 0.3), 0px 1px 3px 1px rgba(60, 64, 67, 0.15);\n",
              "      fill: #174EA6;\n",
              "    }\n",
              "\n",
              "    [theme=dark] .colab-df-convert {\n",
              "      background-color: #3B4455;\n",
              "      fill: #D2E3FC;\n",
              "    }\n",
              "\n",
              "    [theme=dark] .colab-df-convert:hover {\n",
              "      background-color: #434B5C;\n",
              "      box-shadow: 0px 1px 3px 1px rgba(0, 0, 0, 0.15);\n",
              "      filter: drop-shadow(0px 1px 2px rgba(0, 0, 0, 0.3));\n",
              "      fill: #FFFFFF;\n",
              "    }\n",
              "  </style>\n",
              "\n",
              "      <script>\n",
              "        const buttonEl =\n",
              "          document.querySelector('#df-852d54c7-3c0c-44cb-b73f-591fe818045f button.colab-df-convert');\n",
              "        buttonEl.style.display =\n",
              "          google.colab.kernel.accessAllowed ? 'block' : 'none';\n",
              "\n",
              "        async function convertToInteractive(key) {\n",
              "          const element = document.querySelector('#df-852d54c7-3c0c-44cb-b73f-591fe818045f');\n",
              "          const dataTable =\n",
              "            await google.colab.kernel.invokeFunction('convertToInteractive',\n",
              "                                                     [key], {});\n",
              "          if (!dataTable) return;\n",
              "\n",
              "          const docLinkHtml = 'Like what you see? Visit the ' +\n",
              "            '<a target=\"_blank\" href=https://colab.research.google.com/notebooks/data_table.ipynb>data table notebook</a>'\n",
              "            + ' to learn more about interactive tables.';\n",
              "          element.innerHTML = '';\n",
              "          dataTable['output_type'] = 'display_data';\n",
              "          await google.colab.output.renderOutput(dataTable, element);\n",
              "          const docLink = document.createElement('div');\n",
              "          docLink.innerHTML = docLinkHtml;\n",
              "          element.appendChild(docLink);\n",
              "        }\n",
              "      </script>\n",
              "    </div>\n",
              "  </div>\n",
              "  "
            ]
          },
          "metadata": {},
          "execution_count": 2
        }
      ]
    },
    {
      "cell_type": "markdown",
      "source": [
        "## Preparando os dados\n",
        "\n",
        "Para preparar os dados, é feita a correção do tipo da coluna de classes *class*, visto que possui os valores *positive* e *negative* o que pode vir a dificultar os experimentos. É feita a seguinte associação numérica às classes:\n",
        "\n",
        "*   Classe  1: positive -> vitória para o jogador *x*.\n",
        "*   Classe -1: negative -> vitória para o jogador *o*.\n",
        "\n",
        "Por fim, foram criados os vetores X e Y. O vetor X contém somente os dados numéricos das features. O vetor Y contém somente os dados das classificação dos jogos. O conjunto X e Y foram divididos em dois subconjutos de treino e de validação. O conjunto de validação é usado para tes"
      ],
      "metadata": {
        "id": "HPQDo8hjq-p9"
      }
    },
    {
      "cell_type": "code",
      "source": [
        "df = df_completo.copy()\n",
        "df = shuffle(df, random_state=24)\n",
        "\n",
        "df['class'] = df['class'].replace('positive', '1', regex=True)\n",
        "df['class'] = df['class'].replace('negative', '-1', regex=True)\n",
        "df['class'] = df['class'].astype('int64')\n",
        "\n",
        "X = df.copy().drop(['class'], axis=1)\n",
        "X = pd.get_dummies(X).values\n",
        "\n",
        "Y = df['class'].copy().values\n",
        "\n",
        "x_train, x_validation, y_train, y_validation = train_test_split(X, Y, test_size=0.2, random_state=8)"
      ],
      "metadata": {
        "id": "ZAl9Sz-otZKd"
      },
      "execution_count": null,
      "outputs": []
    },
    {
      "cell_type": "markdown",
      "source": [
        "## Desenvolvimento da solução\n",
        "\n",
        "Para implementar o Boosting, foi utilizado o algoritmo do Adaboost. Ele se caracteriza por criar um classificador forte a partir de classificadores fracos. Os classificadores fracos utilizados foram árvores de decisão de profundidade 1. A seguir pode-se ver as funções básicas para a solução."
      ],
      "metadata": {
        "id": "u0rZLY6MCzy1"
      }
    },
    {
      "cell_type": "markdown",
      "source": [
        "### Função de taxa de erro\n",
        "\n",
        "Essa função é usada para calcular o erro simples, ou seja, qual a porcentagem das previsões foram incorretas."
      ],
      "metadata": {
        "id": "PDE7fRocKeSG"
      }
    },
    {
      "cell_type": "code",
      "source": [
        "def calculeteErrorRate(y_pred, y_correct):\n",
        "  return sum(y_pred != y_correct) / len(y_correct)"
      ],
      "metadata": {
        "id": "8b2r6Zikh67a"
      },
      "execution_count": null,
      "outputs": []
    },
    {
      "cell_type": "markdown",
      "source": [
        "### Função de calcular alpha\n",
        "\n",
        "Essa função é usada para calcular alpha, ou seja, a importancia de cada classificador fraco para compor a solução total. Esse parâmetro servirá para ponderar cada stump e será usado para atualizar os pesos das observações."
      ],
      "metadata": {
        "id": "WD6LRexeKry1"
      }
    },
    {
      "cell_type": "code",
      "source": [
        "def calculateAlpha(error):\n",
        "  return 1/2 * np.log((1-error)/error)"
      ],
      "metadata": {
        "id": "ZRBxtwLRBXwL"
      },
      "execution_count": null,
      "outputs": []
    },
    {
      "cell_type": "markdown",
      "source": [
        "### Funções auxiliares para checar classificação\n",
        "\n",
        "As duas funções a seguir são usadas para identificar classificações incorretas. O vetor de classificações incorreta é usado para identificar quais pesos devem ser atualizados e para identificar se o peso deve ser aumentado ou diminuido em caso de erro ou acerto."
      ],
      "metadata": {
        "id": "1rdCKbXSVOcd"
      }
    },
    {
      "cell_type": "code",
      "source": [
        "def getMisclassifications(y_pred, y_correct):\n",
        "  misclassifications = []\n",
        "  for index, item in enumerate(y_pred):\n",
        "    if y_pred[index] == y_correct[index]:\n",
        "      misclassifications.append(0)\n",
        "    else:\n",
        "      misclassifications.append(1)\n",
        "  return misclassifications "
      ],
      "metadata": {
        "id": "mghj4c6jCUIM"
      },
      "execution_count": null,
      "outputs": []
    },
    {
      "cell_type": "code",
      "source": [
        "def getMisclassificationsClasses(y_pred, y_correct):\n",
        "  misclassifications = []\n",
        "  for index, item in enumerate(y_pred):\n",
        "    if y_pred[index] == y_correct[index]:\n",
        "      misclassifications.append(-1)\n",
        "    else:\n",
        "      misclassifications.append(1)\n",
        "  return misclassifications "
      ],
      "metadata": {
        "id": "eb3ZYNj1i38h"
      },
      "execution_count": null,
      "outputs": []
    },
    {
      "cell_type": "markdown",
      "source": [
        "### Função para atualizar parâmetros\n",
        "\n",
        "O Adaboost precisa de atulizar os seus parametros peso e alpha para cada iteração. Essa função realiza esses cálculos e retorna os novos pesos e alpha para que em seguida sejam feitas as novas previsões."
      ],
      "metadata": {
        "id": "YFKEe9aRWnMb"
      }
    },
    {
      "cell_type": "code",
      "source": [
        "def getNewParameters(y_pred, y_correct, weights):\n",
        "  miss = getMisclassifications(y_pred, y_correct)\n",
        "  error = np.dot(weights, miss) / sum(weights)\n",
        "  alpha = calculateAlpha(error)\n",
        "  missClasses = getMisclassificationsClasses(y_pred, y_correct)\n",
        "  weights = np.multiply(weights, np.exp([x * alpha for x in missClasses]))\n",
        "  return alpha, weights"
      ],
      "metadata": {
        "id": "3tvoF2p_KCyf"
      },
      "execution_count": null,
      "outputs": []
    },
    {
      "cell_type": "markdown",
      "source": [
        "### Função para plotar curva de erro simples\n",
        "\n",
        "Essa função serve para plotar as curvas de erro simples no conjunto de teste e de validação."
      ],
      "metadata": {
        "id": "qtttOxW-W8ba"
      }
    },
    {
      "cell_type": "code",
      "source": [
        "def plotError(train_error, validation_error, interactions):\n",
        "  df_error = pd.DataFrame([interactions, train_error, validation_error]).T\n",
        "  df_error.columns = ['Iterações', 'Treino', 'Validação']\n",
        "\n",
        "  plt.figure(figsize=(12,7))\n",
        "  ax = plt.gca()\n",
        "  df_error.plot(kind='line',x='Iterações',y='Treino',ax=ax)\n",
        "  df_error.plot(kind='line',x='Iterações',y='Validação', color='orange', ax=ax)\n",
        "  plt.title('Taxa de erros pelo número de interações')\n",
        "  plt.show()\n",
        "\n",
        "  return df_error"
      ],
      "metadata": {
        "id": "EK_4QnRYjXrI"
      },
      "execution_count": null,
      "outputs": []
    },
    {
      "cell_type": "markdown",
      "source": [
        "### Função do classificador Adaboost\n",
        "\n",
        "Essa função reúne toda a implementação do classificador Adaboost. Inicialmente ela gera kfold de 5 partições para validação cruzada. Os parâmetros iniciais são o erro de treino e o erro de validação. Esses erros são os erros médios de cada partição do kfold e são calculados ao fim do processo de classificação.\n",
        "\n",
        "A função recebe os dados de treino e teste já separados, um número de iterações (número de classificadores mais fracos), um modelo inicial (uma árvore de decisão).\n",
        "\n",
        "Para cada partição de validação cruzada, o algoritmo faz:\n",
        "1.   Inicializa os pesos como 1/n, sendo n o número de iterações\n",
        "2.   Inicializa as predições inicialmente como zeros\n",
        "3.   Treina o modelo atualizando alpha e os pesos.\n",
        "4.   Realiza as predições no conjunto de treino e no conjunto de validação.\n",
        "5.   Computa os erros nos dois conjuntos."
      ],
      "metadata": {
        "id": "ykNg8-H3h7wX"
      }
    },
    {
      "cell_type": "code",
      "source": [
        "def adaboostClassifier(x_train, x_validation, y_train, y_validation, interactions, model):\n",
        "  kfold = StratifiedKFold(n_splits=5, random_state=1, shuffle=True)\n",
        "  trainError = 0\n",
        "  validationError = 0\n",
        "\n",
        "  for train, test in kfold.split(x_train, y_train):\n",
        "    x_train_fold, x_test_fold = x_train[train], x_train[test]\n",
        "    y_train_fold, y_test_fold = y_train[train], y_train[test]\n",
        "\n",
        "    weights = np.ones(len(x_train_fold)) / len(x_train_fold)\n",
        "    y_pred_train, y_pred_validation = [np.zeros(len(x_train_fold)), np.zeros(len(x_validation))]\n",
        "\n",
        "    for i in range(interactions):\n",
        "      model.fit(x_train_fold, y_train_fold, sample_weight = weights)\n",
        "      y_pred_train_i = model.predict(x_train_fold)\n",
        "      y_pred_validation_i = model.predict(x_validation)\n",
        "      alpha, weights = getNewParameters(y_pred_train_i, y_train_fold, weights)\n",
        "      y_pred_train = [sum(x) for x in zip(y_pred_train, [x * alpha for x in y_pred_train_i])]\n",
        "      y_pred_validation = [sum(x) for x in zip(y_pred_validation, [x * alpha for x in y_pred_validation_i])]\n",
        "    \n",
        "    y_pred_train, y_pred_validation = np.sign(y_pred_train), np.sign(y_pred_validation)\n",
        "    \n",
        "    trainError = trainError + calculeteErrorRate(y_pred_train, y_train_fold)\n",
        "    validationError = validationError + calculeteErrorRate(y_pred_validation, y_validation)\n",
        "\n",
        "  trainErrors = trainError/5\n",
        "  validationErrors = validationError/5\n",
        "\n",
        "  return trainErrors, validationErrors"
      ],
      "metadata": {
        "id": "OFoj7purhc4v"
      },
      "execution_count": null,
      "outputs": []
    },
    {
      "cell_type": "markdown",
      "source": [
        "### Função principal\n",
        "\n",
        "Essa função é necessária para executar o trabalho inicialmente."
      ],
      "metadata": {
        "id": "W9hZ93rMkqGh"
      }
    },
    {
      "cell_type": "code",
      "source": [
        "decisionTreeClassifier = DecisionTreeClassifier(max_depth=1, random_state=7)\n",
        "\n",
        "train_error = []\n",
        "validation_error = []\n",
        "interactions = [1, 50, 100, 150, 200, 250, 300, 350, 400, 450, 500]\n",
        "\n",
        "for i in interactions:\n",
        "  errors = adaboostClassifier(x_train, x_validation, y_train, y_validation, i, decisionTreeClassifier)\n",
        "  train_error.append(errors[0])\n",
        "  validation_error.append(errors[1])"
      ],
      "metadata": {
        "id": "Lq6QXOkqiFyb"
      },
      "execution_count": null,
      "outputs": []
    },
    {
      "cell_type": "code",
      "source": [
        "error = plotError(train_error, validation_error, interactions)\n",
        "\n",
        "error['Treino'] = 100*error['Treino']\n",
        "error['Validação'] = 100*error['Validação']\n",
        "error"
      ],
      "metadata": {
        "colab": {
          "base_uri": "https://localhost:8080/",
          "height": 835
        },
        "id": "-_b2xquMl0SM",
        "outputId": "27a0db9b-f026-4ed7-8e4a-3cbf1d287a4d"
      },
      "execution_count": null,
      "outputs": [
        {
          "output_type": "display_data",
          "data": {
            "text/plain": [
              "<Figure size 864x504 with 1 Axes>"
            ],
            "image/png": "[encoded data removed]"
          },
          "metadata": {
            "needs_background": "light"
          }
        },
        {
          "output_type": "execute_result",
          "data": {
            "text/plain": [
              "    Iterações     Treino  Validação\n",
              "0         1.0  29.634285  31.770833\n",
              "1        50.0  16.612129  21.145833\n",
              "2       100.0   8.648829  13.333333\n",
              "3       150.0   4.406327   7.083333\n",
              "4       200.0   1.795147   3.437500\n",
              "5       250.0   1.533975   2.708333\n",
              "6       300.0   1.436096   2.604167\n",
              "7       350.0   1.468669   2.604167\n",
              "8       400.0   1.468669   2.500000\n",
              "9       450.0   1.501295   2.708333\n",
              "10      500.0   1.436043   2.604167"
            ],
            "text/html": [
              "\n",
              "  <div id=\"df-3ed5228e-3e97-4815-aa3f-8bfac8f054aa\">\n",
              "    <div class=\"colab-df-container\">\n",
              "      <div>\n",
              "<style scoped>\n",
              "    .dataframe tbody tr th:only-of-type {\n",
              "        vertical-align: middle;\n",
              "    }\n",
              "\n",
              "    .dataframe tbody tr th {\n",
              "        vertical-align: top;\n",
              "    }\n",
              "\n",
              "    .dataframe thead th {\n",
              "        text-align: right;\n",
              "    }\n",
              "</style>\n",
              "<table border=\"1\" class=\"dataframe\">\n",
              "  <thead>\n",
              "    <tr style=\"text-align: right;\">\n",
              "      <th></th>\n",
              "      <th>Iterações</th>\n",
              "      <th>Treino</th>\n",
              "      <th>Validação</th>\n",
              "    </tr>\n",
              "  </thead>\n",
              "  <tbody>\n",
              "    <tr>\n",
              "      <th>0</th>\n",
              "      <td>1.0</td>\n",
              "      <td>29.634285</td>\n",
              "      <td>31.770833</td>\n",
              "    </tr>\n",
              "    <tr>\n",
              "      <th>1</th>\n",
              "      <td>50.0</td>\n",
              "      <td>16.612129</td>\n",
              "      <td>21.145833</td>\n",
              "    </tr>\n",
              "    <tr>\n",
              "      <th>2</th>\n",
              "      <td>100.0</td>\n",
              "      <td>8.648829</td>\n",
              "      <td>13.333333</td>\n",
              "    </tr>\n",
              "    <tr>\n",
              "      <th>3</th>\n",
              "      <td>150.0</td>\n",
              "      <td>4.406327</td>\n",
              "      <td>7.083333</td>\n",
              "    </tr>\n",
              "    <tr>\n",
              "      <th>4</th>\n",
              "      <td>200.0</td>\n",
              "      <td>1.795147</td>\n",
              "      <td>3.437500</td>\n",
              "    </tr>\n",
              "    <tr>\n",
              "      <th>5</th>\n",
              "      <td>250.0</td>\n",
              "      <td>1.533975</td>\n",
              "      <td>2.708333</td>\n",
              "    </tr>\n",
              "    <tr>\n",
              "      <th>6</th>\n",
              "      <td>300.0</td>\n",
              "      <td>1.436096</td>\n",
              "      <td>2.604167</td>\n",
              "    </tr>\n",
              "    <tr>\n",
              "      <th>7</th>\n",
              "      <td>350.0</td>\n",
              "      <td>1.468669</td>\n",
              "      <td>2.604167</td>\n",
              "    </tr>\n",
              "    <tr>\n",
              "      <th>8</th>\n",
              "      <td>400.0</td>\n",
              "      <td>1.468669</td>\n",
              "      <td>2.500000</td>\n",
              "    </tr>\n",
              "    <tr>\n",
              "      <th>9</th>\n",
              "      <td>450.0</td>\n",
              "      <td>1.501295</td>\n",
              "      <td>2.708333</td>\n",
              "    </tr>\n",
              "    <tr>\n",
              "      <th>10</th>\n",
              "      <td>500.0</td>\n",
              "      <td>1.436043</td>\n",
              "      <td>2.604167</td>\n",
              "    </tr>\n",
              "  </tbody>\n",
              "</table>\n",
              "</div>\n",
              "      <button class=\"colab-df-convert\" onclick=\"convertToInteractive('df-3ed5228e-3e97-4815-aa3f-8bfac8f054aa')\"\n",
              "              title=\"Convert this dataframe to an interactive table.\"\n",
              "              style=\"display:none;\">\n",
              "        \n",
              "  <svg xmlns=\"http://www.w3.org/2000/svg\" height=\"24px\"viewBox=\"0 0 24 24\"\n",
              "       width=\"24px\">\n",
              "    <path d=\"M0 0h24v24H0V0z\" fill=\"none\"/>\n",
              "    <path d=\"M18.56 5.44l.94 2.06.94-2.06 2.06-.94-2.06-.94-.94-2.06-.94 2.06-2.06.94zm-11 1L8.5 8.5l.94-2.06 2.06-.94-2.06-.94L8.5 2.5l-.94 2.06-2.06.94zm10 10l.94 2.06.94-2.06 2.06-.94-2.06-.94-.94-2.06-.94 2.06-2.06.94z\"/><path d=\"M17.41 7.96l-1.37-1.37c-.4-.4-.92-.59-1.43-.59-.52 0-1.04.2-1.43.59L10.3 9.45l-7.72 7.72c-.78.78-.78 2.05 0 2.83L4 21.41c.39.39.9.59 1.41.59.51 0 1.02-.2 1.41-.59l7.78-7.78 2.81-2.81c.8-.78.8-2.07 0-2.86zM5.41 20L4 18.59l7.72-7.72 1.47 1.35L5.41 20z\"/>\n",
              "  </svg>\n",
              "      </button>\n",
              "      \n",
              "  <style>\n",
              "    .colab-df-container {\n",
              "      display:flex;\n",
              "      flex-wrap:wrap;\n",
              "      gap: 12px;\n",
              "    }\n",
              "\n",
              "    .colab-df-convert {\n",
              "      background-color: #E8F0FE;\n",
              "      border: none;\n",
              "      border-radius: 50%;\n",
              "      cursor: pointer;\n",
              "      display: none;\n",
              "      fill: #1967D2;\n",
              "      height: 32px;\n",
              "      padding: 0 0 0 0;\n",
              "      width: 32px;\n",
              "    }\n",
              "\n",
              "    .colab-df-convert:hover {\n",
              "      background-color: #E2EBFA;\n",
              "      box-shadow: 0px 1px 2px rgba(60, 64, 67, 0.3), 0px 1px 3px 1px rgba(60, 64, 67, 0.15);\n",
              "      fill: #174EA6;\n",
              "    }\n",
              "\n",
              "    [theme=dark] .colab-df-convert {\n",
              "      background-color: #3B4455;\n",
              "      fill: #D2E3FC;\n",
              "    }\n",
              "\n",
              "    [theme=dark] .colab-df-convert:hover {\n",
              "      background-color: #434B5C;\n",
              "      box-shadow: 0px 1px 3px 1px rgba(0, 0, 0, 0.15);\n",
              "      filter: drop-shadow(0px 1px 2px rgba(0, 0, 0, 0.3));\n",
              "      fill: #FFFFFF;\n",
              "    }\n",
              "  </style>\n",
              "\n",
              "      <script>\n",
              "        const buttonEl =\n",
              "          document.querySelector('#df-3ed5228e-3e97-4815-aa3f-8bfac8f054aa button.colab-df-convert');\n",
              "        buttonEl.style.display =\n",
              "          google.colab.kernel.accessAllowed ? 'block' : 'none';\n",
              "\n",
              "        async function convertToInteractive(key) {\n",
              "          const element = document.querySelector('#df-3ed5228e-3e97-4815-aa3f-8bfac8f054aa');\n",
              "          const dataTable =\n",
              "            await google.colab.kernel.invokeFunction('convertToInteractive',\n",
              "                                                     [key], {});\n",
              "          if (!dataTable) return;\n",
              "\n",
              "          const docLinkHtml = 'Like what you see? Visit the ' +\n",
              "            '<a target=\"_blank\" href=https://colab.research.google.com/notebooks/data_table.ipynb>data table notebook</a>'\n",
              "            + ' to learn more about interactive tables.';\n",
              "          element.innerHTML = '';\n",
              "          dataTable['output_type'] = 'display_data';\n",
              "          await google.colab.output.renderOutput(dataTable, element);\n",
              "          const docLink = document.createElement('div');\n",
              "          docLink.innerHTML = docLinkHtml;\n",
              "          element.appendChild(docLink);\n",
              "        }\n",
              "      </script>\n",
              "    </div>\n",
              "  </div>\n",
              "  "
            ]
          },
          "metadata": {},
          "execution_count": 12
        }
      ]
    },
    {
      "cell_type": "markdown",
      "source": [
        "## Conclusão\n",
        "\n",
        "Por meio deste trabalho foi possível entender mais sobre o processo de boosting. Mais precisamente, foi muito relavante para aprender na prática o algoritmo do Adaboost para o problema de classificação binária do jogo da velha. \n",
        "\n",
        "Os resultados foram muito satisfatórios. O algoritmo implementado, ao utilizar 500 classificadores fracos, foi possível alcançar um erro de 2,604% no conjunto de validação (dados que não participaram no treino). Na tabela anterior é possível ver que usando apenas 1 stump, o erro iniciap era de 31,771% no conjunto de validação. A taxa de erro foi caindo nos dois conjuntos (treino e teste) até se estabilizar depois de 300 iterações.\n",
        "\n",
        "Logo, é possível concluir que os resultados foram ótimos."
      ],
      "metadata": {
        "id": "K3zf0mZdk_7p"
      }
    },
    {
      "cell_type": "markdown",
      "source": [
        "## Referências bibliográficas\n",
        "\n",
        "* https://www.kdnuggets.com/2020/12/implementing-adaboost-algorithm-from-scratch.html\n",
        "* https://github.com/jaimeps/adaboost-implementation\n",
        "* https://towardsdatascience.com/adaboost-from-scratch-37a936da3d50\n",
        "* https://www.python-engineer.com/courses/mlfromscratch/13_adaboost/\n",
        "* https://medium.com/@derilraju/implementing-adaboost-classifier-from-scratch-in-python-84e1a8bd2999\n",
        "* https://geoffruddock.com/adaboost-from-scratch-in-python/"
      ],
      "metadata": {
        "id": "36y0yC2BTxSN"
      }
    }
  ]
}